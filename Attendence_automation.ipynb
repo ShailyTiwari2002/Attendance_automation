{
 "cells": [
  {
   "cell_type": "code",
   "execution_count": 1,
   "id": "ee17e5df-e8c7-40ee-9761-d7f15496e96b",
   "metadata": {},
   "outputs": [],
   "source": [
    "import pandas as pd"
   ]
  },
  {
   "cell_type": "code",
   "execution_count": 2,
   "id": "92e47dc6-287f-4cb2-88d0-722f6208cd19",
   "metadata": {},
   "outputs": [],
   "source": [
    "import os"
   ]
  },
  {
   "cell_type": "code",
   "execution_count": 3,
   "id": "2af92c6d-cc54-4da0-8e66-351f53b39fb4",
   "metadata": {},
   "outputs": [],
   "source": [
    "import glob"
   ]
  },
  {
   "cell_type": "code",
   "execution_count": 4,
   "id": "66f74074-64e9-4462-80be-8c7324cb577a",
   "metadata": {},
   "outputs": [],
   "source": [
    "folder_path = 'C:\\\\Users\\\\shail\\\\OneDrive\\\\Desktop\\\\Attendance Tracker automation'\n",
    "input_folder = 'C:\\\\Users\\\\shail\\\\OneDrive\\\\Desktop\\\\Attendance Tracker automation\\\\Attendance Data'\n",
    "output_folder = 'C:\\\\Users\\\\shail\\\\OneDrive\\\\Desktop\\\\Attendance Tracker automation\\\\Reports'"
   ]
  },
  {
   "cell_type": "code",
   "execution_count": 5,
   "id": "60688555-6d5d-4f36-828f-73144274dc59",
   "metadata": {},
   "outputs": [],
   "source": [
    "file_pattern = os.path.join(input_folder, '*.xlsx')"
   ]
  },
  {
   "cell_type": "code",
   "execution_count": 11,
   "id": "8a8a9979-9fae-428d-adea-33acafa13ccb",
   "metadata": {},
   "outputs": [
    {
     "name": "stdout",
     "output_type": "stream",
     "text": [
      "file found: ['C:\\\\Users\\\\shail\\\\OneDrive\\\\Desktop\\\\Attendance Tracker automation\\\\Attendance Data\\\\Week1.xlsx', 'C:\\\\Users\\\\shail\\\\OneDrive\\\\Desktop\\\\Attendance Tracker automation\\\\Attendance Data\\\\Week2.xlsx', 'C:\\\\Users\\\\shail\\\\OneDrive\\\\Desktop\\\\Attendance Tracker automation\\\\Attendance Data\\\\Week3.xlsx']\n"
     ]
    }
   ],
   "source": [
    "all_files = glob.glob(os.path.join(input_folder, '*.xlsx'))\n",
    "print('file found:', all_files)"
   ]
  },
  {
   "cell_type": "code",
   "execution_count": 9,
   "id": "50a11746-989f-484a-86cb-fd56311ee3d0",
   "metadata": {},
   "outputs": [],
   "source": [
    "df_list = []"
   ]
  },
  {
   "cell_type": "code",
   "execution_count": 13,
   "id": "40ad087c-7560-47a7-9e43-6f26bb2cc3b1",
   "metadata": {},
   "outputs": [],
   "source": [
    "for file in all_files:\n",
    "    df = pd.read_excel(file)\n",
    "    df_list.append(df)\n",
    "\n",
    "combined_df = pd.concat(df_list, ignore_index = True)"
   ]
  },
  {
   "cell_type": "code",
   "execution_count": 15,
   "id": "68d26de5-7dcf-4704-b86b-c85622844e3b",
   "metadata": {},
   "outputs": [
    {
     "name": "stdout",
     "output_type": "stream",
     "text": [
      "combined_data:\n",
      "  Employee ID         Name       Date Present (Y/N)\n",
      "0        E001  Aditi Mehra 2025-07-01             Y\n",
      "1        E002   Ravi Kumar 2025-07-01             N\n",
      "2        E003    Sneha Roy 2025-07-01             Y\n",
      "3        E004   Karan Shah 2025-07-01             Y\n",
      "4        E005   Neha Singh 2025-07-01             Y\n"
     ]
    }
   ],
   "source": [
    "print('combined_data:')\n",
    "print(combined_df.head())"
   ]
  },
  {
   "cell_type": "code",
   "execution_count": 22,
   "id": "9e17d08d-48c5-4b59-9569-d4dc795063f6",
   "metadata": {},
   "outputs": [],
   "source": [
    "##clean and calculate attendence percentage\n",
    "##group by employee id and name\n",
    "combined_df['Present (Y/N)'] = combined_df['Present (Y/N)'].map({'Y': 1, 'N': 0})\n",
    "summary_df = combined_df.groupby(['Employee ID', 'Name']).agg(\n",
    "    Days_present = ('Present (Y/N)', 'sum'),\n",
    "    Total_days = ('Present (Y/N)', 'count')\n",
    ").reset_index()"
   ]
  },
  {
   "cell_type": "code",
   "execution_count": 26,
   "id": "5c267428-605b-4375-a5e3-0c47c296506f",
   "metadata": {},
   "outputs": [],
   "source": [
    "##Calculate Attendence percentage\n",
    "summary_df['Attendence %'] = (summary_df['Days_present']/summary_df['Total_days'])*100\n",
    "summary_df['Attendence %'] = summary_df['Attendence %'].round(2)"
   ]
  },
  {
   "cell_type": "code",
   "execution_count": 24,
   "id": "d5e8d454-7456-44a3-98c5-e37201286326",
   "metadata": {},
   "outputs": [
    {
     "name": "stdout",
     "output_type": "stream",
     "text": [
      "['Employee ID', 'Name', 'Days_present', 'Total_days']\n"
     ]
    }
   ],
   "source": [
    "print(summary_df.columns.to_list())"
   ]
  },
  {
   "cell_type": "code",
   "execution_count": 27,
   "id": "43f7db1d-b771-4476-bfbd-c0dbf8fcca7a",
   "metadata": {},
   "outputs": [],
   "source": [
    "##Add status based on attendence %\n",
    "summary_df['status'] = summary_df['Attendence %'].apply(\n",
    "    lambda x: 'Good' if x>=75 else 'Low Attendence'\n",
    ")"
   ]
  },
  {
   "cell_type": "code",
   "execution_count": 28,
   "id": "7f59e7d4-0033-4780-a266-ddff17ef3a1d",
   "metadata": {},
   "outputs": [
    {
     "name": "stdout",
     "output_type": "stream",
     "text": [
      "\n",
      "Attendence Summary:\n",
      "  Employee ID         Name  Days_present  Total_days  Attendence %  \\\n",
      "0        E001  Aditi Mehra             3           3        100.00   \n",
      "1        E002   Ravi Kumar             0           3          0.00   \n",
      "2        E003    Sneha Roy             2           3         66.67   \n",
      "3        E004   Karan Shah             3           3        100.00   \n",
      "4        E005   Neha Singh             2           3         66.67   \n",
      "\n",
      "           status  \n",
      "0            Good  \n",
      "1  Low Attendence  \n",
      "2  Low Attendence  \n",
      "3            Good  \n",
      "4  Low Attendence  \n"
     ]
    }
   ],
   "source": [
    "print('\\nAttendence Summary:')\n",
    "print(summary_df)"
   ]
  },
  {
   "cell_type": "code",
   "execution_count": 40,
   "id": "08e9b303-80cc-4ce0-85db-81e2299c0f68",
   "metadata": {},
   "outputs": [
    {
     "name": "stdout",
     "output_type": "stream",
     "text": [
      "Attendence summary saved to: C:\\Users\\shail\\OneDrive\\Desktop\\Attendance Tracker automation\\Reports\\attendence_summary.xlsx\n"
     ]
    }
   ],
   "source": [
    "output_path = 'C:\\\\Users\\\\shail\\\\OneDrive\\\\Desktop\\\\Attendance Tracker automation\\\\Reports\\\\attendence_summary.xlsx'\n",
    "summary_df.to_excel(output_path, index = False, engine = 'openpyxl')\n",
    "print('Attendence summary saved to:', output_path)"
   ]
  },
  {
   "cell_type": "code",
   "execution_count": 41,
   "id": "3fb58956-5b3b-469b-a20c-90a8596d4378",
   "metadata": {},
   "outputs": [
    {
     "name": "stdout",
     "output_type": "stream",
     "text": [
      "C:\\Users\\shail\\anaconda3\\python.exe\n"
     ]
    }
   ],
   "source": [
    "import sys\n",
    "print(sys.executable)"
   ]
  },
  {
   "cell_type": "code",
   "execution_count": null,
   "id": "6017caf3-9125-4ccd-b38c-d253cd63d6dd",
   "metadata": {},
   "outputs": [],
   "source": []
  }
 ],
 "metadata": {
  "kernelspec": {
   "display_name": "Python [conda env:base] *",
   "language": "python",
   "name": "conda-base-py"
  },
  "language_info": {
   "codemirror_mode": {
    "name": "ipython",
    "version": 3
   },
   "file_extension": ".py",
   "mimetype": "text/x-python",
   "name": "python",
   "nbconvert_exporter": "python",
   "pygments_lexer": "ipython3",
   "version": "3.12.7"
  }
 },
 "nbformat": 4,
 "nbformat_minor": 5
}
